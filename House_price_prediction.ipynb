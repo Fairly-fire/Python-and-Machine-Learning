{
  "nbformat": 4,
  "nbformat_minor": 0,
  "metadata": {
    "colab": {
      "provenance": [],
      "collapsed_sections": [],
      "authorship_tag": "ABX9TyNgSk8YVBMyySnN2Lus5cMx",
      "include_colab_link": true
    },
    "kernelspec": {
      "name": "python3",
      "display_name": "Python 3"
    },
    "language_info": {
      "name": "python"
    }
  },
  "cells": [
    {
      "cell_type": "markdown",
      "metadata": {
        "id": "view-in-github",
        "colab_type": "text"
      },
      "source": [
        "<a href=\"https://colab.research.google.com/github/Fairly-fire/Python-and-Machine-Learning/blob/main/House_price_prediction.ipynb\" target=\"_parent\"><img src=\"https://colab.research.google.com/assets/colab-badge.svg\" alt=\"Open In Colab\"/></a>"
      ]
    },
    {
      "cell_type": "code",
      "metadata": {
        "id": "_1DmEbe8qkoH",
        "outputId": "d239776b-9373-4175-9a9d-1bee512b38ff",
        "colab": {
          "base_uri": "https://localhost:8080/"
        }
      },
      "source": [
        "import pandas as pd\n",
        "import matplotlib.pyplot as plt\n",
        "import numpy as np\n",
        "import seaborn as sns\n",
        "import statsmodels.api as sm\n",
        "import statsmodels.formula.api as smf\n",
        "import scipy.stats as stats\n",
        "from scipy.stats import ttest_ind"
      ],
      "execution_count": null,
      "outputs": [
        {
          "output_type": "stream",
          "name": "stderr",
          "text": [
            "/usr/local/lib/python3.7/dist-packages/statsmodels/tools/_testing.py:19: FutureWarning: pandas.util.testing is deprecated. Use the functions in the public API at pandas.testing instead.\n",
            "  import pandas.util.testing as tm\n"
          ]
        }
      ]
    },
    {
      "cell_type": "code",
      "metadata": {
        "colab": {
          "resources": {
            "http://localhost:8080/nbextensions/google.colab/files.js": {
              "data": "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",
              "ok": true,
              "headers": [
                [
                  "content-type",
                  "application/javascript"
                ]
              ],
              "status": 200,
              "status_text": ""
            }
          },
          "base_uri": "https://localhost:8080/",
          "height": 71
        },
        "id": "A2YebPTuqtDq",
        "outputId": "129843a0-5717-47f4-d589-c8d64ee2902e"
      },
      "source": [
        "from google.colab import files\n",
        "uploaded = files.upload()"
      ],
      "execution_count": null,
      "outputs": [
        {
          "output_type": "display_data",
          "data": {
            "text/plain": [
              "<IPython.core.display.HTML object>"
            ],
            "text/html": [
              "\n",
              "     <input type=\"file\" id=\"files-7f8e2ec7-2a35-4123-92fe-1534795eba5f\" name=\"files[]\" multiple disabled\n",
              "        style=\"border:none\" />\n",
              "     <output id=\"result-7f8e2ec7-2a35-4123-92fe-1534795eba5f\">\n",
              "      Upload widget is only available when the cell has been executed in the\n",
              "      current browser session. Please rerun this cell to enable.\n",
              "      </output>\n",
              "      <script src=\"/nbextensions/google.colab/files.js\"></script> "
            ]
          },
          "metadata": {}
        },
        {
          "output_type": "stream",
          "name": "stdout",
          "text": [
            "Saving Project_2__HousePrice.csv to Project_2__HousePrice.csv\n"
          ]
        }
      ]
    },
    {
      "cell_type": "code",
      "metadata": {
        "id": "K0KsQnm-qyJ3"
      },
      "source": [
        "import io\n",
        "df = pd.read_csv(io.BytesIO(uploaded['Project_2__HousePrice.csv']))"
      ],
      "execution_count": null,
      "outputs": []
    },
    {
      "cell_type": "markdown",
      "metadata": {
        "id": "scsANvAvrENL"
      },
      "source": [
        "Import and Study Dataset"
      ]
    },
    {
      "cell_type": "code",
      "metadata": {
        "colab": {
          "base_uri": "https://localhost:8080/"
        },
        "id": "m3Z1S4zre5SM",
        "outputId": "3d26c75f-2d9f-4b8b-eedc-44cdc91d1923"
      },
      "source": [
        "df[df.chas==1].medv.mean()"
      ],
      "execution_count": null,
      "outputs": [
        {
          "output_type": "execute_result",
          "data": {
            "text/plain": [
              "23.979310344827585"
            ]
          },
          "metadata": {},
          "execution_count": 4
        }
      ]
    },
    {
      "cell_type": "code",
      "metadata": {
        "colab": {
          "base_uri": "https://localhost:8080/"
        },
        "id": "v_BCj2ywnKYw",
        "outputId": "9c152fdf-cc6f-4835-df9b-59dbc75d6745"
      },
      "source": [
        "ttest_ind(df[df.chas==1].medv, df[df.chas==0].medv,equal_var=True)"
      ],
      "execution_count": null,
      "outputs": [
        {
          "output_type": "execute_result",
          "data": {
            "text/plain": [
              "Ttest_indResult(statistic=1.6571053443179937, pvalue=0.09814089320087695)"
            ]
          },
          "metadata": {},
          "execution_count": 5
        }
      ]
    },
    {
      "cell_type": "code",
      "metadata": {
        "colab": {
          "base_uri": "https://localhost:8080/",
          "height": 423
        },
        "id": "0FmmNV3FrAIo",
        "outputId": "fb50785b-67d2-4589-d60e-46364393668d"
      },
      "source": [
        "df"
      ],
      "execution_count": null,
      "outputs": [
        {
          "output_type": "execute_result",
          "data": {
            "text/plain": [
              "        crim    zn  indus  chas    nox     rm     dis  rad  tax  ptratio  \\\n",
              "0    0.00632  18.0   2.31     0  0.538  6.575  4.0900    1  296     15.3   \n",
              "1    0.02731   0.0   7.07     0  0.469  6.421  4.9671    2  242     17.8   \n",
              "2    0.02729   0.0   7.07     0  0.469  7.185  4.9671    2  242     17.8   \n",
              "3    0.03237   0.0   2.18     0  0.458  6.998  6.0622    3  222     18.7   \n",
              "4    0.06905   0.0   2.18     0  0.458  7.147  6.0622    3  222     18.7   \n",
              "..       ...   ...    ...   ...    ...    ...     ...  ...  ...      ...   \n",
              "485  0.06263   0.0  11.93     0  0.573  6.593  2.4786    1  273     21.0   \n",
              "486  0.04527   0.0  11.93     0  0.573  6.120  2.2875    1  273     21.0   \n",
              "487  0.06076   0.0  11.93     0  0.573  6.976  2.1675    1  273     21.0   \n",
              "488  0.10959   0.0  11.93     0  0.573  6.794  2.3889    1  273     21.0   \n",
              "489  0.04741   0.0  11.93     0  0.573  6.030  2.5050    1  273     21.0   \n",
              "\n",
              "     lstat  medv  \n",
              "0     4.98  24.0  \n",
              "1     9.14  21.6  \n",
              "2     4.03  34.7  \n",
              "3     2.94  33.4  \n",
              "4     5.33  36.2  \n",
              "..     ...   ...  \n",
              "485   9.67  22.4  \n",
              "486   9.08  20.6  \n",
              "487   5.64  23.9  \n",
              "488   6.48  22.0  \n",
              "489   7.88  11.9  \n",
              "\n",
              "[490 rows x 12 columns]"
            ],
            "text/html": [
              "\n",
              "  <div id=\"df-71c8a965-d4a1-4afa-80cb-85d77d61b6e2\">\n",
              "    <div class=\"colab-df-container\">\n",
              "      <div>\n",
              "<style scoped>\n",
              "    .dataframe tbody tr th:only-of-type {\n",
              "        vertical-align: middle;\n",
              "    }\n",
              "\n",
              "    .dataframe tbody tr th {\n",
              "        vertical-align: top;\n",
              "    }\n",
              "\n",
              "    .dataframe thead th {\n",
              "        text-align: right;\n",
              "    }\n",
              "</style>\n",
              "<table border=\"1\" class=\"dataframe\">\n",
              "  <thead>\n",
              "    <tr style=\"text-align: right;\">\n",
              "      <th></th>\n",
              "      <th>crim</th>\n",
              "      <th>zn</th>\n",
              "      <th>indus</th>\n",
              "      <th>chas</th>\n",
              "      <th>nox</th>\n",
              "      <th>rm</th>\n",
              "      <th>dis</th>\n",
              "      <th>rad</th>\n",
              "      <th>tax</th>\n",
              "      <th>ptratio</th>\n",
              "      <th>lstat</th>\n",
              "      <th>medv</th>\n",
              "    </tr>\n",
              "  </thead>\n",
              "  <tbody>\n",
              "    <tr>\n",
              "      <th>0</th>\n",
              "      <td>0.00632</td>\n",
              "      <td>18.0</td>\n",
              "      <td>2.31</td>\n",
              "      <td>0</td>\n",
              "      <td>0.538</td>\n",
              "      <td>6.575</td>\n",
              "      <td>4.0900</td>\n",
              "      <td>1</td>\n",
              "      <td>296</td>\n",
              "      <td>15.3</td>\n",
              "      <td>4.98</td>\n",
              "      <td>24.0</td>\n",
              "    </tr>\n",
              "    <tr>\n",
              "      <th>1</th>\n",
              "      <td>0.02731</td>\n",
              "      <td>0.0</td>\n",
              "      <td>7.07</td>\n",
              "      <td>0</td>\n",
              "      <td>0.469</td>\n",
              "      <td>6.421</td>\n",
              "      <td>4.9671</td>\n",
              "      <td>2</td>\n",
              "      <td>242</td>\n",
              "      <td>17.8</td>\n",
              "      <td>9.14</td>\n",
              "      <td>21.6</td>\n",
              "    </tr>\n",
              "    <tr>\n",
              "      <th>2</th>\n",
              "      <td>0.02729</td>\n",
              "      <td>0.0</td>\n",
              "      <td>7.07</td>\n",
              "      <td>0</td>\n",
              "      <td>0.469</td>\n",
              "      <td>7.185</td>\n",
              "      <td>4.9671</td>\n",
              "      <td>2</td>\n",
              "      <td>242</td>\n",
              "      <td>17.8</td>\n",
              "      <td>4.03</td>\n",
              "      <td>34.7</td>\n",
              "    </tr>\n",
              "    <tr>\n",
              "      <th>3</th>\n",
              "      <td>0.03237</td>\n",
              "      <td>0.0</td>\n",
              "      <td>2.18</td>\n",
              "      <td>0</td>\n",
              "      <td>0.458</td>\n",
              "      <td>6.998</td>\n",
              "      <td>6.0622</td>\n",
              "      <td>3</td>\n",
              "      <td>222</td>\n",
              "      <td>18.7</td>\n",
              "      <td>2.94</td>\n",
              "      <td>33.4</td>\n",
              "    </tr>\n",
              "    <tr>\n",
              "      <th>4</th>\n",
              "      <td>0.06905</td>\n",
              "      <td>0.0</td>\n",
              "      <td>2.18</td>\n",
              "      <td>0</td>\n",
              "      <td>0.458</td>\n",
              "      <td>7.147</td>\n",
              "      <td>6.0622</td>\n",
              "      <td>3</td>\n",
              "      <td>222</td>\n",
              "      <td>18.7</td>\n",
              "      <td>5.33</td>\n",
              "      <td>36.2</td>\n",
              "    </tr>\n",
              "    <tr>\n",
              "      <th>...</th>\n",
              "      <td>...</td>\n",
              "      <td>...</td>\n",
              "      <td>...</td>\n",
              "      <td>...</td>\n",
              "      <td>...</td>\n",
              "      <td>...</td>\n",
              "      <td>...</td>\n",
              "      <td>...</td>\n",
              "      <td>...</td>\n",
              "      <td>...</td>\n",
              "      <td>...</td>\n",
              "      <td>...</td>\n",
              "    </tr>\n",
              "    <tr>\n",
              "      <th>485</th>\n",
              "      <td>0.06263</td>\n",
              "      <td>0.0</td>\n",
              "      <td>11.93</td>\n",
              "      <td>0</td>\n",
              "      <td>0.573</td>\n",
              "      <td>6.593</td>\n",
              "      <td>2.4786</td>\n",
              "      <td>1</td>\n",
              "      <td>273</td>\n",
              "      <td>21.0</td>\n",
              "      <td>9.67</td>\n",
              "      <td>22.4</td>\n",
              "    </tr>\n",
              "    <tr>\n",
              "      <th>486</th>\n",
              "      <td>0.04527</td>\n",
              "      <td>0.0</td>\n",
              "      <td>11.93</td>\n",
              "      <td>0</td>\n",
              "      <td>0.573</td>\n",
              "      <td>6.120</td>\n",
              "      <td>2.2875</td>\n",
              "      <td>1</td>\n",
              "      <td>273</td>\n",
              "      <td>21.0</td>\n",
              "      <td>9.08</td>\n",
              "      <td>20.6</td>\n",
              "    </tr>\n",
              "    <tr>\n",
              "      <th>487</th>\n",
              "      <td>0.06076</td>\n",
              "      <td>0.0</td>\n",
              "      <td>11.93</td>\n",
              "      <td>0</td>\n",
              "      <td>0.573</td>\n",
              "      <td>6.976</td>\n",
              "      <td>2.1675</td>\n",
              "      <td>1</td>\n",
              "      <td>273</td>\n",
              "      <td>21.0</td>\n",
              "      <td>5.64</td>\n",
              "      <td>23.9</td>\n",
              "    </tr>\n",
              "    <tr>\n",
              "      <th>488</th>\n",
              "      <td>0.10959</td>\n",
              "      <td>0.0</td>\n",
              "      <td>11.93</td>\n",
              "      <td>0</td>\n",
              "      <td>0.573</td>\n",
              "      <td>6.794</td>\n",
              "      <td>2.3889</td>\n",
              "      <td>1</td>\n",
              "      <td>273</td>\n",
              "      <td>21.0</td>\n",
              "      <td>6.48</td>\n",
              "      <td>22.0</td>\n",
              "    </tr>\n",
              "    <tr>\n",
              "      <th>489</th>\n",
              "      <td>0.04741</td>\n",
              "      <td>0.0</td>\n",
              "      <td>11.93</td>\n",
              "      <td>0</td>\n",
              "      <td>0.573</td>\n",
              "      <td>6.030</td>\n",
              "      <td>2.5050</td>\n",
              "      <td>1</td>\n",
              "      <td>273</td>\n",
              "      <td>21.0</td>\n",
              "      <td>7.88</td>\n",
              "      <td>11.9</td>\n",
              "    </tr>\n",
              "  </tbody>\n",
              "</table>\n",
              "<p>490 rows × 12 columns</p>\n",
              "</div>\n",
              "      <button class=\"colab-df-convert\" onclick=\"convertToInteractive('df-71c8a965-d4a1-4afa-80cb-85d77d61b6e2')\"\n",
              "              title=\"Convert this dataframe to an interactive table.\"\n",
              "              style=\"display:none;\">\n",
              "        \n",
              "  <svg xmlns=\"http://www.w3.org/2000/svg\" height=\"24px\"viewBox=\"0 0 24 24\"\n",
              "       width=\"24px\">\n",
              "    <path d=\"M0 0h24v24H0V0z\" fill=\"none\"/>\n",
              "    <path d=\"M18.56 5.44l.94 2.06.94-2.06 2.06-.94-2.06-.94-.94-2.06-.94 2.06-2.06.94zm-11 1L8.5 8.5l.94-2.06 2.06-.94-2.06-.94L8.5 2.5l-.94 2.06-2.06.94zm10 10l.94 2.06.94-2.06 2.06-.94-2.06-.94-.94-2.06-.94 2.06-2.06.94z\"/><path d=\"M17.41 7.96l-1.37-1.37c-.4-.4-.92-.59-1.43-.59-.52 0-1.04.2-1.43.59L10.3 9.45l-7.72 7.72c-.78.78-.78 2.05 0 2.83L4 21.41c.39.39.9.59 1.41.59.51 0 1.02-.2 1.41-.59l7.78-7.78 2.81-2.81c.8-.78.8-2.07 0-2.86zM5.41 20L4 18.59l7.72-7.72 1.47 1.35L5.41 20z\"/>\n",
              "  </svg>\n",
              "      </button>\n",
              "      \n",
              "  <style>\n",
              "    .colab-df-container {\n",
              "      display:flex;\n",
              "      flex-wrap:wrap;\n",
              "      gap: 12px;\n",
              "    }\n",
              "\n",
              "    .colab-df-convert {\n",
              "      background-color: #E8F0FE;\n",
              "      border: none;\n",
              "      border-radius: 50%;\n",
              "      cursor: pointer;\n",
              "      display: none;\n",
              "      fill: #1967D2;\n",
              "      height: 32px;\n",
              "      padding: 0 0 0 0;\n",
              "      width: 32px;\n",
              "    }\n",
              "\n",
              "    .colab-df-convert:hover {\n",
              "      background-color: #E2EBFA;\n",
              "      box-shadow: 0px 1px 2px rgba(60, 64, 67, 0.3), 0px 1px 3px 1px rgba(60, 64, 67, 0.15);\n",
              "      fill: #174EA6;\n",
              "    }\n",
              "\n",
              "    [theme=dark] .colab-df-convert {\n",
              "      background-color: #3B4455;\n",
              "      fill: #D2E3FC;\n",
              "    }\n",
              "\n",
              "    [theme=dark] .colab-df-convert:hover {\n",
              "      background-color: #434B5C;\n",
              "      box-shadow: 0px 1px 3px 1px rgba(0, 0, 0, 0.15);\n",
              "      filter: drop-shadow(0px 1px 2px rgba(0, 0, 0, 0.3));\n",
              "      fill: #FFFFFF;\n",
              "    }\n",
              "  </style>\n",
              "\n",
              "      <script>\n",
              "        const buttonEl =\n",
              "          document.querySelector('#df-71c8a965-d4a1-4afa-80cb-85d77d61b6e2 button.colab-df-convert');\n",
              "        buttonEl.style.display =\n",
              "          google.colab.kernel.accessAllowed ? 'block' : 'none';\n",
              "\n",
              "        async function convertToInteractive(key) {\n",
              "          const element = document.querySelector('#df-71c8a965-d4a1-4afa-80cb-85d77d61b6e2');\n",
              "          const dataTable =\n",
              "            await google.colab.kernel.invokeFunction('convertToInteractive',\n",
              "                                                     [key], {});\n",
              "          if (!dataTable) return;\n",
              "\n",
              "          const docLinkHtml = 'Like what you see? Visit the ' +\n",
              "            '<a target=\"_blank\" href=https://colab.research.google.com/notebooks/data_table.ipynb>data table notebook</a>'\n",
              "            + ' to learn more about interactive tables.';\n",
              "          element.innerHTML = '';\n",
              "          dataTable['output_type'] = 'display_data';\n",
              "          await google.colab.output.renderOutput(dataTable, element);\n",
              "          const docLink = document.createElement('div');\n",
              "          docLink.innerHTML = docLinkHtml;\n",
              "          element.appendChild(docLink);\n",
              "        }\n",
              "      </script>\n",
              "    </div>\n",
              "  </div>\n",
              "  "
            ]
          },
          "metadata": {},
          "execution_count": 6
        }
      ]
    },
    {
      "cell_type": "code",
      "metadata": {
        "colab": {
          "base_uri": "https://localhost:8080/"
        },
        "id": "oWm-xswhrHKB",
        "outputId": "413109dc-e4f6-4206-fa49-6b4cd267ba08"
      },
      "source": [
        "df.info()"
      ],
      "execution_count": null,
      "outputs": [
        {
          "output_type": "stream",
          "name": "stdout",
          "text": [
            "<class 'pandas.core.frame.DataFrame'>\n",
            "RangeIndex: 490 entries, 0 to 489\n",
            "Data columns (total 12 columns):\n",
            " #   Column   Non-Null Count  Dtype  \n",
            "---  ------   --------------  -----  \n",
            " 0   crim     490 non-null    float64\n",
            " 1   zn       490 non-null    float64\n",
            " 2   indus    490 non-null    float64\n",
            " 3   chas     490 non-null    int64  \n",
            " 4   nox      490 non-null    float64\n",
            " 5   rm       490 non-null    float64\n",
            " 6   dis      490 non-null    float64\n",
            " 7   rad      490 non-null    int64  \n",
            " 8   tax      490 non-null    int64  \n",
            " 9   ptratio  490 non-null    float64\n",
            " 10  lstat    490 non-null    float64\n",
            " 11  medv     490 non-null    float64\n",
            "dtypes: float64(9), int64(3)\n",
            "memory usage: 46.1 KB\n"
          ]
        }
      ]
    },
    {
      "cell_type": "markdown",
      "metadata": {
        "id": "xKIKCUXwrdT4"
      },
      "source": [
        "Exploratory Data Analysis"
      ]
    },
    {
      "cell_type": "code",
      "metadata": {
        "colab": {
          "base_uri": "https://localhost:8080/",
          "height": 425
        },
        "id": "ZU-dlxLrrVsD",
        "outputId": "a9522262-2927-4f19-8775-ecafdd6a9c65"
      },
      "source": [
        "df.describe().T"
      ],
      "execution_count": null,
      "outputs": [
        {
          "output_type": "execute_result",
          "data": {
            "text/plain": [
              "         count        mean         std        min         25%        50%  \\\n",
              "crim     490.0    3.643241    8.722154    0.00632    0.082045    0.24751   \n",
              "zn       490.0   11.112245   22.844626    0.00000    0.000000    0.00000   \n",
              "indus    490.0   11.113143    6.821302    0.74000    5.190000    9.69000   \n",
              "chas     490.0    0.059184    0.236209    0.00000    0.000000    0.00000   \n",
              "nox      490.0    0.554307    0.116688    0.38500    0.449000    0.53800   \n",
              "rm       490.0    6.245471    0.653147    3.56100    5.881000    6.18500   \n",
              "dis      490.0    3.834519    2.109948    1.13700    2.111050    3.27590   \n",
              "rad      490.0    9.514286    8.691297    1.00000    4.000000    5.00000   \n",
              "tax      490.0  408.002041  168.065190  187.00000  280.250000  330.00000   \n",
              "ptratio  490.0   18.520000    2.110478   12.60000   17.400000   19.10000   \n",
              "lstat    490.0   12.924020    7.083180    1.98000    7.347500   11.67500   \n",
              "medv     490.0   21.635918    7.865301    5.00000   16.700000   20.90000   \n",
              "\n",
              "                75%       max  \n",
              "crim       3.647423   88.9762  \n",
              "zn        12.500000  100.0000  \n",
              "indus     18.100000   27.7400  \n",
              "chas       0.000000    1.0000  \n",
              "nox        0.624000    0.8710  \n",
              "rm         6.578000    8.7800  \n",
              "dis        5.214600   12.1265  \n",
              "rad       24.000000   24.0000  \n",
              "tax      666.000000  711.0000  \n",
              "ptratio   20.200000   22.0000  \n",
              "lstat     17.117500   37.9700  \n",
              "medv      24.675000   48.8000  "
            ],
            "text/html": [
              "\n",
              "  <div id=\"df-67852a95-3464-4154-bfc0-c3bd4f9ab33d\">\n",
              "    <div class=\"colab-df-container\">\n",
              "      <div>\n",
              "<style scoped>\n",
              "    .dataframe tbody tr th:only-of-type {\n",
              "        vertical-align: middle;\n",
              "    }\n",
              "\n",
              "    .dataframe tbody tr th {\n",
              "        vertical-align: top;\n",
              "    }\n",
              "\n",
              "    .dataframe thead th {\n",
              "        text-align: right;\n",
              "    }\n",
              "</style>\n",
              "<table border=\"1\" class=\"dataframe\">\n",
              "  <thead>\n",
              "    <tr style=\"text-align: right;\">\n",
              "      <th></th>\n",
              "      <th>count</th>\n",
              "      <th>mean</th>\n",
              "      <th>std</th>\n",
              "      <th>min</th>\n",
              "      <th>25%</th>\n",
              "      <th>50%</th>\n",
              "      <th>75%</th>\n",
              "      <th>max</th>\n",
              "    </tr>\n",
              "  </thead>\n",
              "  <tbody>\n",
              "    <tr>\n",
              "      <th>crim</th>\n",
              "      <td>490.0</td>\n",
              "      <td>3.643241</td>\n",
              "      <td>8.722154</td>\n",
              "      <td>0.00632</td>\n",
              "      <td>0.082045</td>\n",
              "      <td>0.24751</td>\n",
              "      <td>3.647423</td>\n",
              "      <td>88.9762</td>\n",
              "    </tr>\n",
              "    <tr>\n",
              "      <th>zn</th>\n",
              "      <td>490.0</td>\n",
              "      <td>11.112245</td>\n",
              "      <td>22.844626</td>\n",
              "      <td>0.00000</td>\n",
              "      <td>0.000000</td>\n",
              "      <td>0.00000</td>\n",
              "      <td>12.500000</td>\n",
              "      <td>100.0000</td>\n",
              "    </tr>\n",
              "    <tr>\n",
              "      <th>indus</th>\n",
              "      <td>490.0</td>\n",
              "      <td>11.113143</td>\n",
              "      <td>6.821302</td>\n",
              "      <td>0.74000</td>\n",
              "      <td>5.190000</td>\n",
              "      <td>9.69000</td>\n",
              "      <td>18.100000</td>\n",
              "      <td>27.7400</td>\n",
              "    </tr>\n",
              "    <tr>\n",
              "      <th>chas</th>\n",
              "      <td>490.0</td>\n",
              "      <td>0.059184</td>\n",
              "      <td>0.236209</td>\n",
              "      <td>0.00000</td>\n",
              "      <td>0.000000</td>\n",
              "      <td>0.00000</td>\n",
              "      <td>0.000000</td>\n",
              "      <td>1.0000</td>\n",
              "    </tr>\n",
              "    <tr>\n",
              "      <th>nox</th>\n",
              "      <td>490.0</td>\n",
              "      <td>0.554307</td>\n",
              "      <td>0.116688</td>\n",
              "      <td>0.38500</td>\n",
              "      <td>0.449000</td>\n",
              "      <td>0.53800</td>\n",
              "      <td>0.624000</td>\n",
              "      <td>0.8710</td>\n",
              "    </tr>\n",
              "    <tr>\n",
              "      <th>rm</th>\n",
              "      <td>490.0</td>\n",
              "      <td>6.245471</td>\n",
              "      <td>0.653147</td>\n",
              "      <td>3.56100</td>\n",
              "      <td>5.881000</td>\n",
              "      <td>6.18500</td>\n",
              "      <td>6.578000</td>\n",
              "      <td>8.7800</td>\n",
              "    </tr>\n",
              "    <tr>\n",
              "      <th>dis</th>\n",
              "      <td>490.0</td>\n",
              "      <td>3.834519</td>\n",
              "      <td>2.109948</td>\n",
              "      <td>1.13700</td>\n",
              "      <td>2.111050</td>\n",
              "      <td>3.27590</td>\n",
              "      <td>5.214600</td>\n",
              "      <td>12.1265</td>\n",
              "    </tr>\n",
              "    <tr>\n",
              "      <th>rad</th>\n",
              "      <td>490.0</td>\n",
              "      <td>9.514286</td>\n",
              "      <td>8.691297</td>\n",
              "      <td>1.00000</td>\n",
              "      <td>4.000000</td>\n",
              "      <td>5.00000</td>\n",
              "      <td>24.000000</td>\n",
              "      <td>24.0000</td>\n",
              "    </tr>\n",
              "    <tr>\n",
              "      <th>tax</th>\n",
              "      <td>490.0</td>\n",
              "      <td>408.002041</td>\n",
              "      <td>168.065190</td>\n",
              "      <td>187.00000</td>\n",
              "      <td>280.250000</td>\n",
              "      <td>330.00000</td>\n",
              "      <td>666.000000</td>\n",
              "      <td>711.0000</td>\n",
              "    </tr>\n",
              "    <tr>\n",
              "      <th>ptratio</th>\n",
              "      <td>490.0</td>\n",
              "      <td>18.520000</td>\n",
              "      <td>2.110478</td>\n",
              "      <td>12.60000</td>\n",
              "      <td>17.400000</td>\n",
              "      <td>19.10000</td>\n",
              "      <td>20.200000</td>\n",
              "      <td>22.0000</td>\n",
              "    </tr>\n",
              "    <tr>\n",
              "      <th>lstat</th>\n",
              "      <td>490.0</td>\n",
              "      <td>12.924020</td>\n",
              "      <td>7.083180</td>\n",
              "      <td>1.98000</td>\n",
              "      <td>7.347500</td>\n",
              "      <td>11.67500</td>\n",
              "      <td>17.117500</td>\n",
              "      <td>37.9700</td>\n",
              "    </tr>\n",
              "    <tr>\n",
              "      <th>medv</th>\n",
              "      <td>490.0</td>\n",
              "      <td>21.635918</td>\n",
              "      <td>7.865301</td>\n",
              "      <td>5.00000</td>\n",
              "      <td>16.700000</td>\n",
              "      <td>20.90000</td>\n",
              "      <td>24.675000</td>\n",
              "      <td>48.8000</td>\n",
              "    </tr>\n",
              "  </tbody>\n",
              "</table>\n",
              "</div>\n",
              "      <button class=\"colab-df-convert\" onclick=\"convertToInteractive('df-67852a95-3464-4154-bfc0-c3bd4f9ab33d')\"\n",
              "              title=\"Convert this dataframe to an interactive table.\"\n",
              "              style=\"display:none;\">\n",
              "        \n",
              "  <svg xmlns=\"http://www.w3.org/2000/svg\" height=\"24px\"viewBox=\"0 0 24 24\"\n",
              "       width=\"24px\">\n",
              "    <path d=\"M0 0h24v24H0V0z\" fill=\"none\"/>\n",
              "    <path d=\"M18.56 5.44l.94 2.06.94-2.06 2.06-.94-2.06-.94-.94-2.06-.94 2.06-2.06.94zm-11 1L8.5 8.5l.94-2.06 2.06-.94-2.06-.94L8.5 2.5l-.94 2.06-2.06.94zm10 10l.94 2.06.94-2.06 2.06-.94-2.06-.94-.94-2.06-.94 2.06-2.06.94z\"/><path d=\"M17.41 7.96l-1.37-1.37c-.4-.4-.92-.59-1.43-.59-.52 0-1.04.2-1.43.59L10.3 9.45l-7.72 7.72c-.78.78-.78 2.05 0 2.83L4 21.41c.39.39.9.59 1.41.59.51 0 1.02-.2 1.41-.59l7.78-7.78 2.81-2.81c.8-.78.8-2.07 0-2.86zM5.41 20L4 18.59l7.72-7.72 1.47 1.35L5.41 20z\"/>\n",
              "  </svg>\n",
              "      </button>\n",
              "      \n",
              "  <style>\n",
              "    .colab-df-container {\n",
              "      display:flex;\n",
              "      flex-wrap:wrap;\n",
              "      gap: 12px;\n",
              "    }\n",
              "\n",
              "    .colab-df-convert {\n",
              "      background-color: #E8F0FE;\n",
              "      border: none;\n",
              "      border-radius: 50%;\n",
              "      cursor: pointer;\n",
              "      display: none;\n",
              "      fill: #1967D2;\n",
              "      height: 32px;\n",
              "      padding: 0 0 0 0;\n",
              "      width: 32px;\n",
              "    }\n",
              "\n",
              "    .colab-df-convert:hover {\n",
              "      background-color: #E2EBFA;\n",
              "      box-shadow: 0px 1px 2px rgba(60, 64, 67, 0.3), 0px 1px 3px 1px rgba(60, 64, 67, 0.15);\n",
              "      fill: #174EA6;\n",
              "    }\n",
              "\n",
              "    [theme=dark] .colab-df-convert {\n",
              "      background-color: #3B4455;\n",
              "      fill: #D2E3FC;\n",
              "    }\n",
              "\n",
              "    [theme=dark] .colab-df-convert:hover {\n",
              "      background-color: #434B5C;\n",
              "      box-shadow: 0px 1px 3px 1px rgba(0, 0, 0, 0.15);\n",
              "      filter: drop-shadow(0px 1px 2px rgba(0, 0, 0, 0.3));\n",
              "      fill: #FFFFFF;\n",
              "    }\n",
              "  </style>\n",
              "\n",
              "      <script>\n",
              "        const buttonEl =\n",
              "          document.querySelector('#df-67852a95-3464-4154-bfc0-c3bd4f9ab33d button.colab-df-convert');\n",
              "        buttonEl.style.display =\n",
              "          google.colab.kernel.accessAllowed ? 'block' : 'none';\n",
              "\n",
              "        async function convertToInteractive(key) {\n",
              "          const element = document.querySelector('#df-67852a95-3464-4154-bfc0-c3bd4f9ab33d');\n",
              "          const dataTable =\n",
              "            await google.colab.kernel.invokeFunction('convertToInteractive',\n",
              "                                                     [key], {});\n",
              "          if (!dataTable) return;\n",
              "\n",
              "          const docLinkHtml = 'Like what you see? Visit the ' +\n",
              "            '<a target=\"_blank\" href=https://colab.research.google.com/notebooks/data_table.ipynb>data table notebook</a>'\n",
              "            + ' to learn more about interactive tables.';\n",
              "          element.innerHTML = '';\n",
              "          dataTable['output_type'] = 'display_data';\n",
              "          await google.colab.output.renderOutput(dataTable, element);\n",
              "          const docLink = document.createElement('div');\n",
              "          docLink.innerHTML = docLinkHtml;\n",
              "          element.appendChild(docLink);\n",
              "        }\n",
              "      </script>\n",
              "    </div>\n",
              "  </div>\n",
              "  "
            ]
          },
          "metadata": {},
          "execution_count": 8
        }
      ]
    },
    {
      "cell_type": "code",
      "metadata": {
        "colab": {
          "base_uri": "https://localhost:8080/"
        },
        "id": "vUNPSxNGrgnN",
        "outputId": "e0b2dec0-bcae-4697-cc6d-62c7a0dec30a"
      },
      "source": [
        "df.columns"
      ],
      "execution_count": null,
      "outputs": [
        {
          "output_type": "execute_result",
          "data": {
            "text/plain": [
              "Index(['crim', 'zn', 'indus', 'chas', 'nox', 'rm', 'dis', 'rad', 'tax',\n",
              "       'ptratio', 'lstat', 'medv'],\n",
              "      dtype='object')"
            ]
          },
          "metadata": {},
          "execution_count": 9
        }
      ]
    },
    {
      "cell_type": "code",
      "metadata": {
        "colab": {
          "base_uri": "https://localhost:8080/",
          "height": 296
        },
        "id": "YdRiC7U4r1_C",
        "outputId": "88db7fab-ddb3-4ef9-e29f-29d35286bf98"
      },
      "source": [
        "sns.kdeplot(df.medv)"
      ],
      "execution_count": null,
      "outputs": [
        {
          "output_type": "execute_result",
          "data": {
            "text/plain": [
              "<matplotlib.axes._subplots.AxesSubplot at 0x7f9b24f939d0>"
            ]
          },
          "metadata": {},
          "execution_count": 10
        },
        {
          "output_type": "display_data",
          "data": {
            "text/plain": [
              "<Figure size 432x288 with 1 Axes>"
            ],
            "image/png": "[encoded data removed]"
          },
          "metadata": {
            "needs_background": "light"
          }
        }
      ]
    },
    {
      "cell_type": "code",
      "metadata": {
        "colab": {
          "base_uri": "https://localhost:8080/",
          "height": 351
        },
        "id": "UR842qx5uLtf",
        "outputId": "8ca16334-2bab-44bc-da67-8367f2d34f46"
      },
      "source": [
        "sns.boxplot(df.medv)"
      ],
      "execution_count": null,
      "outputs": [
        {
          "output_type": "stream",
          "name": "stderr",
          "text": [
            "/usr/local/lib/python3.7/dist-packages/seaborn/_decorators.py:43: FutureWarning: Pass the following variable as a keyword arg: x. From version 0.12, the only valid positional argument will be `data`, and passing other arguments without an explicit keyword will result in an error or misinterpretation.\n",
            "  FutureWarning\n"
          ]
        },
        {
          "output_type": "execute_result",
          "data": {
            "text/plain": [
              "<matplotlib.axes._subplots.AxesSubplot at 0x7f9b22e94c50>"
            ]
          },
          "metadata": {},
          "execution_count": 11
        },
        {
          "output_type": "display_data",
          "data": {
            "text/plain": [
              "<Figure size 432x288 with 1 Axes>"
            ],
            "image/png": "[encoded data removed]"
          },
          "metadata": {
            "needs_background": "light"
          }
        }
      ]
    },
    {
      "cell_type": "code",
      "metadata": {
        "colab": {
          "base_uri": "https://localhost:8080/",
          "height": 497
        },
        "id": "wWbPk2arurJf",
        "outputId": "135de23e-1850-49e7-b0b3-d704d4020735"
      },
      "source": [
        "plt.figure(figsize=(15,8))\n",
        "count =1\n",
        "for i in np.arange(0,len(df.columns)-1):\n",
        "  plt.subplot(4,3,count)\n",
        "  sns.kdeplot(df.iloc[:,i])\n",
        "  count = count +1"
      ],
      "execution_count": null,
      "outputs": [
        {
          "output_type": "display_data",
          "data": {
            "text/plain": [
              "<Figure size 1080x576 with 11 Axes>"
            ],
            "image/png": "[encoded data removed]"
          },
          "metadata": {
            "needs_background": "light"
          }
        }
      ]
    },
    {
      "cell_type": "code",
      "metadata": {
        "colab": {
          "base_uri": "https://localhost:8080/",
          "height": 382
        },
        "id": "taSJL0FAsJWf",
        "outputId": "2d2e234c-0611-4387-fa5f-afdb125b0db1"
      },
      "source": [
        "df.corr()"
      ],
      "execution_count": null,
      "outputs": [
        {
          "output_type": "execute_result",
          "data": {
            "text/plain": [
              "             crim        zn     indus      chas       nox        rm       dis  \\\n",
              "crim     1.000000 -0.199075  0.408053 -0.064210  0.420476 -0.219307 -0.382231   \n",
              "zn      -0.199075  1.000000 -0.527121 -0.053911 -0.512137  0.310506  0.673227   \n",
              "indus    0.408053 -0.527121  1.000000  0.035815  0.765155 -0.412413 -0.710284   \n",
              "chas    -0.064210 -0.053911  0.035815  1.000000  0.085619  0.044979 -0.077705   \n",
              "nox      0.420476 -0.512137  0.765155  0.085619  1.000000 -0.322609 -0.768122   \n",
              "rm      -0.219307  0.310506 -0.412413  0.044979 -0.322609  1.000000  0.245789   \n",
              "dis     -0.382231  0.673227 -0.710284 -0.077705 -0.768122  0.245789  1.000000   \n",
              "rad      0.627434 -0.307726  0.596124 -0.032786  0.612160 -0.195768 -0.491875   \n",
              "tax      0.583711 -0.302897  0.717678 -0.067743  0.667380 -0.281955 -0.532025   \n",
              "ptratio  0.287079 -0.381815  0.387656 -0.116830  0.188381 -0.293299 -0.246773   \n",
              "lstat    0.461755 -0.422090  0.636527 -0.006486  0.612444 -0.610369 -0.536493   \n",
              "medv    -0.450115  0.404608 -0.600005  0.074803 -0.524451  0.686634  0.368813   \n",
              "\n",
              "              rad       tax   ptratio     lstat      medv  \n",
              "crim     0.627434  0.583711  0.287079  0.461755 -0.450115  \n",
              "zn      -0.307726 -0.302897 -0.381815 -0.422090  0.404608  \n",
              "indus    0.596124  0.717678  0.387656  0.636527 -0.600005  \n",
              "chas    -0.032786 -0.067743 -0.116830 -0.006486  0.074803  \n",
              "nox      0.612160  0.667380  0.188381  0.612444 -0.524451  \n",
              "rm      -0.195768 -0.281955 -0.293299 -0.610369  0.686634  \n",
              "dis     -0.491875 -0.532025 -0.246773 -0.536493  0.368813  \n",
              "rad      1.000000  0.909000  0.456035  0.510192 -0.476296  \n",
              "tax      0.909000  1.000000  0.452252  0.566467 -0.572442  \n",
              "ptratio  0.456035  0.452252  1.000000  0.358023 -0.518641  \n",
              "lstat    0.510192  0.566467  0.358023  1.000000 -0.759837  \n",
              "medv    -0.476296 -0.572442 -0.518641 -0.759837  1.000000  "
            ],
            "text/html": [
              "\n",
              "  <div id=\"df-566c61bd-6747-425b-969b-ca94aa5f90a9\">\n",
              "    <div class=\"colab-df-container\">\n",
              "      <div>\n",
              "<style scoped>\n",
              "    .dataframe tbody tr th:only-of-type {\n",
              "        vertical-align: middle;\n",
              "    }\n",
              "\n",
              "    .dataframe tbody tr th {\n",
              "        vertical-align: top;\n",
              "    }\n",
              "\n",
              "    .dataframe thead th {\n",
              "        text-align: right;\n",
              "    }\n",
              "</style>\n",
              "<table border=\"1\" class=\"dataframe\">\n",
              "  <thead>\n",
              "    <tr style=\"text-align: right;\">\n",
              "      <th></th>\n",
              "      <th>crim</th>\n",
              "      <th>zn</th>\n",
              "      <th>indus</th>\n",
              "      <th>chas</th>\n",
              "      <th>nox</th>\n",
              "      <th>rm</th>\n",
              "      <th>dis</th>\n",
              "      <th>rad</th>\n",
              "      <th>tax</th>\n",
              "      <th>ptratio</th>\n",
              "      <th>lstat</th>\n",
              "      <th>medv</th>\n",
              "    </tr>\n",
              "  </thead>\n",
              "  <tbody>\n",
              "    <tr>\n",
              "      <th>crim</th>\n",
              "      <td>1.000000</td>\n",
              "      <td>-0.199075</td>\n",
              "      <td>0.408053</td>\n",
              "      <td>-0.064210</td>\n",
              "      <td>0.420476</td>\n",
              "      <td>-0.219307</td>\n",
              "      <td>-0.382231</td>\n",
              "      <td>0.627434</td>\n",
              "      <td>0.583711</td>\n",
              "      <td>0.287079</td>\n",
              "      <td>0.461755</td>\n",
              "      <td>-0.450115</td>\n",
              "    </tr>\n",
              "    <tr>\n",
              "      <th>zn</th>\n",
              "      <td>-0.199075</td>\n",
              "      <td>1.000000</td>\n",
              "      <td>-0.527121</td>\n",
              "      <td>-0.053911</td>\n",
              "      <td>-0.512137</td>\n",
              "      <td>0.310506</td>\n",
              "      <td>0.673227</td>\n",
              "      <td>-0.307726</td>\n",
              "      <td>-0.302897</td>\n",
              "      <td>-0.381815</td>\n",
              "      <td>-0.422090</td>\n",
              "      <td>0.404608</td>\n",
              "    </tr>\n",
              "    <tr>\n",
              "      <th>indus</th>\n",
              "      <td>0.408053</td>\n",
              "      <td>-0.527121</td>\n",
              "      <td>1.000000</td>\n",
              "      <td>0.035815</td>\n",
              "      <td>0.765155</td>\n",
              "      <td>-0.412413</td>\n",
              "      <td>-0.710284</td>\n",
              "      <td>0.596124</td>\n",
              "      <td>0.717678</td>\n",
              "      <td>0.387656</td>\n",
              "      <td>0.636527</td>\n",
              "      <td>-0.600005</td>\n",
              "    </tr>\n",
              "    <tr>\n",
              "      <th>chas</th>\n",
              "      <td>-0.064210</td>\n",
              "      <td>-0.053911</td>\n",
              "      <td>0.035815</td>\n",
              "      <td>1.000000</td>\n",
              "      <td>0.085619</td>\n",
              "      <td>0.044979</td>\n",
              "      <td>-0.077705</td>\n",
              "      <td>-0.032786</td>\n",
              "      <td>-0.067743</td>\n",
              "      <td>-0.116830</td>\n",
              "      <td>-0.006486</td>\n",
              "      <td>0.074803</td>\n",
              "    </tr>\n",
              "    <tr>\n",
              "      <th>nox</th>\n",
              "      <td>0.420476</td>\n",
              "      <td>-0.512137</td>\n",
              "      <td>0.765155</td>\n",
              "      <td>0.085619</td>\n",
              "      <td>1.000000</td>\n",
              "      <td>-0.322609</td>\n",
              "      <td>-0.768122</td>\n",
              "      <td>0.612160</td>\n",
              "      <td>0.667380</td>\n",
              "      <td>0.188381</td>\n",
              "      <td>0.612444</td>\n",
              "      <td>-0.524451</td>\n",
              "    </tr>\n",
              "    <tr>\n",
              "      <th>rm</th>\n",
              "      <td>-0.219307</td>\n",
              "      <td>0.310506</td>\n",
              "      <td>-0.412413</td>\n",
              "      <td>0.044979</td>\n",
              "      <td>-0.322609</td>\n",
              "      <td>1.000000</td>\n",
              "      <td>0.245789</td>\n",
              "      <td>-0.195768</td>\n",
              "      <td>-0.281955</td>\n",
              "      <td>-0.293299</td>\n",
              "      <td>-0.610369</td>\n",
              "      <td>0.686634</td>\n",
              "    </tr>\n",
              "    <tr>\n",
              "      <th>dis</th>\n",
              "      <td>-0.382231</td>\n",
              "      <td>0.673227</td>\n",
              "      <td>-0.710284</td>\n",
              "      <td>-0.077705</td>\n",
              "      <td>-0.768122</td>\n",
              "      <td>0.245789</td>\n",
              "      <td>1.000000</td>\n",
              "      <td>-0.491875</td>\n",
              "      <td>-0.532025</td>\n",
              "      <td>-0.246773</td>\n",
              "      <td>-0.536493</td>\n",
              "      <td>0.368813</td>\n",
              "    </tr>\n",
              "    <tr>\n",
              "      <th>rad</th>\n",
              "      <td>0.627434</td>\n",
              "      <td>-0.307726</td>\n",
              "      <td>0.596124</td>\n",
              "      <td>-0.032786</td>\n",
              "      <td>0.612160</td>\n",
              "      <td>-0.195768</td>\n",
              "      <td>-0.491875</td>\n",
              "      <td>1.000000</td>\n",
              "      <td>0.909000</td>\n",
              "      <td>0.456035</td>\n",
              "      <td>0.510192</td>\n",
              "      <td>-0.476296</td>\n",
              "    </tr>\n",
              "    <tr>\n",
              "      <th>tax</th>\n",
              "      <td>0.583711</td>\n",
              "      <td>-0.302897</td>\n",
              "      <td>0.717678</td>\n",
              "      <td>-0.067743</td>\n",
              "      <td>0.667380</td>\n",
              "      <td>-0.281955</td>\n",
              "      <td>-0.532025</td>\n",
              "      <td>0.909000</td>\n",
              "      <td>1.000000</td>\n",
              "      <td>0.452252</td>\n",
              "      <td>0.566467</td>\n",
              "      <td>-0.572442</td>\n",
              "    </tr>\n",
              "    <tr>\n",
              "      <th>ptratio</th>\n",
              "      <td>0.287079</td>\n",
              "      <td>-0.381815</td>\n",
              "      <td>0.387656</td>\n",
              "      <td>-0.116830</td>\n",
              "      <td>0.188381</td>\n",
              "      <td>-0.293299</td>\n",
              "      <td>-0.246773</td>\n",
              "      <td>0.456035</td>\n",
              "      <td>0.452252</td>\n",
              "      <td>1.000000</td>\n",
              "      <td>0.358023</td>\n",
              "      <td>-0.518641</td>\n",
              "    </tr>\n",
              "    <tr>\n",
              "      <th>lstat</th>\n",
              "      <td>0.461755</td>\n",
              "      <td>-0.422090</td>\n",
              "      <td>0.636527</td>\n",
              "      <td>-0.006486</td>\n",
              "      <td>0.612444</td>\n",
              "      <td>-0.610369</td>\n",
              "      <td>-0.536493</td>\n",
              "      <td>0.510192</td>\n",
              "      <td>0.566467</td>\n",
              "      <td>0.358023</td>\n",
              "      <td>1.000000</td>\n",
              "      <td>-0.759837</td>\n",
              "    </tr>\n",
              "    <tr>\n",
              "      <th>medv</th>\n",
              "      <td>-0.450115</td>\n",
              "      <td>0.404608</td>\n",
              "      <td>-0.600005</td>\n",
              "      <td>0.074803</td>\n",
              "      <td>-0.524451</td>\n",
              "      <td>0.686634</td>\n",
              "      <td>0.368813</td>\n",
              "      <td>-0.476296</td>\n",
              "      <td>-0.572442</td>\n",
              "      <td>-0.518641</td>\n",
              "      <td>-0.759837</td>\n",
              "      <td>1.000000</td>\n",
              "    </tr>\n",
              "  </tbody>\n",
              "</table>\n",
              "</div>\n",
              "      <button class=\"colab-df-convert\" onclick=\"convertToInteractive('df-566c61bd-6747-425b-969b-ca94aa5f90a9')\"\n",
              "              title=\"Convert this dataframe to an interactive table.\"\n",
              "              style=\"display:none;\">\n",
              "        \n",
              "  <svg xmlns=\"http://www.w3.org/2000/svg\" height=\"24px\"viewBox=\"0 0 24 24\"\n",
              "       width=\"24px\">\n",
              "    <path d=\"M0 0h24v24H0V0z\" fill=\"none\"/>\n",
              "    <path d=\"M18.56 5.44l.94 2.06.94-2.06 2.06-.94-2.06-.94-.94-2.06-.94 2.06-2.06.94zm-11 1L8.5 8.5l.94-2.06 2.06-.94-2.06-.94L8.5 2.5l-.94 2.06-2.06.94zm10 10l.94 2.06.94-2.06 2.06-.94-2.06-.94-.94-2.06-.94 2.06-2.06.94z\"/><path d=\"M17.41 7.96l-1.37-1.37c-.4-.4-.92-.59-1.43-.59-.52 0-1.04.2-1.43.59L10.3 9.45l-7.72 7.72c-.78.78-.78 2.05 0 2.83L4 21.41c.39.39.9.59 1.41.59.51 0 1.02-.2 1.41-.59l7.78-7.78 2.81-2.81c.8-.78.8-2.07 0-2.86zM5.41 20L4 18.59l7.72-7.72 1.47 1.35L5.41 20z\"/>\n",
              "  </svg>\n",
              "      </button>\n",
              "      \n",
              "  <style>\n",
              "    .colab-df-container {\n",
              "      display:flex;\n",
              "      flex-wrap:wrap;\n",
              "      gap: 12px;\n",
              "    }\n",
              "\n",
              "    .colab-df-convert {\n",
              "      background-color: #E8F0FE;\n",
              "      border: none;\n",
              "      border-radius: 50%;\n",
              "      cursor: pointer;\n",
              "      display: none;\n",
              "      fill: #1967D2;\n",
              "      height: 32px;\n",
              "      padding: 0 0 0 0;\n",
              "      width: 32px;\n",
              "    }\n",
              "\n",
              "    .colab-df-convert:hover {\n",
              "      background-color: #E2EBFA;\n",
              "      box-shadow: 0px 1px 2px rgba(60, 64, 67, 0.3), 0px 1px 3px 1px rgba(60, 64, 67, 0.15);\n",
              "      fill: #174EA6;\n",
              "    }\n",
              "\n",
              "    [theme=dark] .colab-df-convert {\n",
              "      background-color: #3B4455;\n",
              "      fill: #D2E3FC;\n",
              "    }\n",
              "\n",
              "    [theme=dark] .colab-df-convert:hover {\n",
              "      background-color: #434B5C;\n",
              "      box-shadow: 0px 1px 3px 1px rgba(0, 0, 0, 0.15);\n",
              "      filter: drop-shadow(0px 1px 2px rgba(0, 0, 0, 0.3));\n",
              "      fill: #FFFFFF;\n",
              "    }\n",
              "  </style>\n",
              "\n",
              "      <script>\n",
              "        const buttonEl =\n",
              "          document.querySelector('#df-566c61bd-6747-425b-969b-ca94aa5f90a9 button.colab-df-convert');\n",
              "        buttonEl.style.display =\n",
              "          google.colab.kernel.accessAllowed ? 'block' : 'none';\n",
              "\n",
              "        async function convertToInteractive(key) {\n",
              "          const element = document.querySelector('#df-566c61bd-6747-425b-969b-ca94aa5f90a9');\n",
              "          const dataTable =\n",
              "            await google.colab.kernel.invokeFunction('convertToInteractive',\n",
              "                                                     [key], {});\n",
              "          if (!dataTable) return;\n",
              "\n",
              "          const docLinkHtml = 'Like what you see? Visit the ' +\n",
              "            '<a target=\"_blank\" href=https://colab.research.google.com/notebooks/data_table.ipynb>data table notebook</a>'\n",
              "            + ' to learn more about interactive tables.';\n",
              "          element.innerHTML = '';\n",
              "          dataTable['output_type'] = 'display_data';\n",
              "          await google.colab.output.renderOutput(dataTable, element);\n",
              "          const docLink = document.createElement('div');\n",
              "          docLink.innerHTML = docLinkHtml;\n",
              "          element.appendChild(docLink);\n",
              "        }\n",
              "      </script>\n",
              "    </div>\n",
              "  </div>\n",
              "  "
            ]
          },
          "metadata": {},
          "execution_count": 13
        }
      ]
    },
    {
      "cell_type": "code",
      "metadata": {
        "colab": {
          "base_uri": "https://localhost:8080/",
          "height": 504
        },
        "id": "A-zqjpVGsJ1f",
        "outputId": "e10550b6-88ff-4f41-f356-67c026745236"
      },
      "source": [
        "plt.figure(figsize=(10,8))\n",
        "sns.heatmap(df.corr(), annot=True, cmap='Spectral')"
      ],
      "execution_count": null,
      "outputs": [
        {
          "output_type": "execute_result",
          "data": {
            "text/plain": [
              "<matplotlib.axes._subplots.AxesSubplot at 0x7f9b2258c410>"
            ]
          },
          "metadata": {},
          "execution_count": 14
        },
        {
          "output_type": "display_data",
          "data": {
            "text/plain": [
              "<Figure size 720x576 with 2 Axes>"
            ],
            "image/png": "[encoded data removed]"
          },
          "metadata": {
            "needs_background": "light"
          }
        }
      ]
    },
    {
      "cell_type": "markdown",
      "metadata": {
        "id": "rtj9tDwL0KKH"
      },
      "source": [
        "\n",
        "MULTIPLE LINEAR REGRESSION"
      ]
    },
    {
      "cell_type": "code",
      "metadata": {
        "id": "X0TfBryQ0Dq7",
        "colab": {
          "base_uri": "https://localhost:8080/"
        },
        "outputId": "33a96748-1b9e-469a-d8fb-9f221bca7eea"
      },
      "source": [
        "X = df.drop('medv', axis =1)\n",
        "y = df.medv\n",
        "X2 = sm.add_constant(X)"
      ],
      "execution_count": null,
      "outputs": [
        {
          "output_type": "stream",
          "name": "stderr",
          "text": [
            "/usr/local/lib/python3.7/dist-packages/statsmodels/tsa/tsatools.py:117: FutureWarning: In a future version of pandas all arguments of concat except for the argument 'objs' will be keyword-only\n",
            "  x = pd.concat(x[::order], 1)\n"
          ]
        }
      ]
    },
    {
      "cell_type": "code",
      "metadata": {
        "colab": {
          "base_uri": "https://localhost:8080/"
        },
        "id": "5_lS43M_sdOG",
        "outputId": "cb7d748f-d470-4134-a840-c8c2fdf0a037"
      },
      "source": [
        "lm1 = sm.OLS(y, X2).fit()\n",
        "print(lm1.summary())\n",
        "#as we can see from the p-values \"indus\" and \"chas\" are not significant. Hence we create a new model without these columns."
      ],
      "execution_count": null,
      "outputs": [
        {
          "output_type": "stream",
          "name": "stdout",
          "text": [
            "                            OLS Regression Results                            \n",
            "==============================================================================\n",
            "Dep. Variable:                   medv   R-squared:                       0.769\n",
            "Model:                            OLS   Adj. R-squared:                  0.764\n",
            "Method:                 Least Squares   F-statistic:                     145.0\n",
            "Date:                Fri, 22 Apr 2022   Prob (F-statistic):          1.62e-144\n",
            "Time:                        23:35:17   Log-Likelihood:                -1345.9\n",
            "No. Observations:                 490   AIC:                             2716.\n",
            "Df Residuals:                     478   BIC:                             2766.\n",
            "Df Model:                          11                                         \n",
            "Covariance Type:            nonrobust                                         \n",
            "==============================================================================\n",
            "                 coef    std err          t      P>|t|      [0.025      0.975]\n",
            "------------------------------------------------------------------------------\n",
            "const         37.2868      3.999      9.325      0.000      29.430      45.144\n",
            "crim          -0.1178      0.026     -4.471      0.000      -0.170      -0.066\n",
            "zn             0.0382      0.011      3.354      0.001       0.016       0.061\n",
            "indus         -0.0479      0.051     -0.947      0.344      -0.147       0.051\n",
            "chas           0.5289      0.753      0.703      0.483      -0.950       2.008\n",
            "nox          -14.8909      2.979     -4.999      0.000     -20.744      -9.038\n",
            "rm             3.4755      0.354      9.831      0.000       2.781       4.170\n",
            "dis           -1.1293      0.156     -7.218      0.000      -1.437      -0.822\n",
            "rad            0.2458      0.054      4.585      0.000       0.140       0.351\n",
            "tax           -0.0142      0.003     -4.655      0.000      -0.020      -0.008\n",
            "ptratio       -0.8428      0.107     -7.908      0.000      -1.052      -0.633\n",
            "lstat         -0.4033      0.040    -10.142      0.000      -0.481      -0.325\n",
            "==============================================================================\n",
            "Omnibus:                       67.195   Durbin-Watson:                   1.229\n",
            "Prob(Omnibus):                  0.000   Jarque-Bera (JB):              107.605\n",
            "Skew:                           0.867   Prob(JB):                     4.30e-24\n",
            "Kurtosis:                       4.504   Cond. No.                     1.14e+04\n",
            "==============================================================================\n",
            "\n",
            "Warnings:\n",
            "[1] Standard Errors assume that the covariance matrix of the errors is correctly specified.\n",
            "[2] The condition number is large, 1.14e+04. This might indicate that there are\n",
            "strong multicollinearity or other numerical problems.\n"
          ]
        }
      ]
    },
    {
      "cell_type": "code",
      "metadata": {
        "colab": {
          "base_uri": "https://localhost:8080/"
        },
        "id": "M4IXkbM50sR6",
        "outputId": "80fb3dd8-01bd-4370-b8e5-857fd231cce0"
      },
      "source": [
        "formula = 'medv ~ crim + zn + nox + rm + dis + rad + tax + ptratio + lstat'\n",
        "lm2 = smf.ols(formula=formula, data=df).fit()\n",
        "print(lm2.summary())\n",
        "#Here we can see all the columns are significant. Now let's scale the values to increase the R^2 value."
      ],
      "execution_count": null,
      "outputs": [
        {
          "output_type": "stream",
          "name": "stdout",
          "text": [
            "                            OLS Regression Results                            \n",
            "==============================================================================\n",
            "Dep. Variable:                   medv   R-squared:                       0.769\n",
            "Model:                            OLS   Adj. R-squared:                  0.764\n",
            "Method:                 Least Squares   F-statistic:                     177.3\n",
            "Date:                Fri, 22 Apr 2022   Prob (F-statistic):          1.75e-146\n",
            "Time:                        23:35:25   Log-Likelihood:                -1346.6\n",
            "No. Observations:                 490   AIC:                             2713.\n",
            "Df Residuals:                     480   BIC:                             2755.\n",
            "Df Model:                           9                                         \n",
            "Covariance Type:            nonrobust                                         \n",
            "==============================================================================\n",
            "                 coef    std err          t      P>|t|      [0.025      0.975]\n",
            "------------------------------------------------------------------------------\n",
            "Intercept     37.6032      3.986      9.434      0.000      29.772      45.435\n",
            "crim          -0.1178      0.026     -4.486      0.000      -0.169      -0.066\n",
            "zn             0.0391      0.011      3.454      0.001       0.017       0.061\n",
            "nox          -15.5303      2.841     -5.466      0.000     -21.113      -9.948\n",
            "rm             3.5167      0.351     10.013      0.000       2.827       4.207\n",
            "dis           -1.1002      0.153     -7.209      0.000      -1.400      -0.800\n",
            "rad            0.2615      0.052      5.066      0.000       0.160       0.363\n",
            "tax           -0.0156      0.003     -5.674      0.000      -0.021      -0.010\n",
            "ptratio       -0.8627      0.105     -8.213      0.000      -1.069      -0.656\n",
            "lstat         -0.4069      0.040    -10.292      0.000      -0.485      -0.329\n",
            "==============================================================================\n",
            "Omnibus:                       66.879   Durbin-Watson:                   1.216\n",
            "Prob(Omnibus):                  0.000   Jarque-Bera (JB):              105.962\n",
            "Skew:                           0.869   Prob(JB):                     9.79e-24\n",
            "Kurtosis:                       4.473   Cond. No.                     1.13e+04\n",
            "==============================================================================\n",
            "\n",
            "Warnings:\n",
            "[1] Standard Errors assume that the covariance matrix of the errors is correctly specified.\n",
            "[2] The condition number is large, 1.13e+04. This might indicate that there are\n",
            "strong multicollinearity or other numerical problems.\n"
          ]
        }
      ]
    },
    {
      "cell_type": "code",
      "metadata": {
        "colab": {
          "base_uri": "https://localhost:8080/"
        },
        "id": "Q_L2o2mxhJia",
        "outputId": "f249c3ae-1c15-487e-db4f-1efcfaeff2eb"
      },
      "source": [
        "formula = 'medv ~ rm + ptratio + lstat'\n",
        "lm3 = smf.ols(formula=formula, data=df).fit()\n",
        "print(lm3.summary())"
      ],
      "execution_count": null,
      "outputs": [
        {
          "output_type": "stream",
          "name": "stdout",
          "text": [
            "                            OLS Regression Results                            \n",
            "==============================================================================\n",
            "Dep. Variable:                   medv   R-squared:                       0.713\n",
            "Model:                            OLS   Adj. R-squared:                  0.711\n",
            "Method:                 Least Squares   F-statistic:                     401.7\n",
            "Date:                Fri, 22 Apr 2022   Prob (F-statistic):          3.79e-131\n",
            "Time:                        23:35:34   Log-Likelihood:                -1399.9\n",
            "No. Observations:                 490   AIC:                             2808.\n",
            "Df Residuals:                     486   BIC:                             2825.\n",
            "Df Model:                           3                                         \n",
            "Covariance Type:            nonrobust                                         \n",
            "==============================================================================\n",
            "                 coef    std err          t      P>|t|      [0.025      0.975]\n",
            "------------------------------------------------------------------------------\n",
            "Intercept     21.5589      3.247      6.639      0.000      15.179      27.939\n",
            "rm             3.9111      0.372     10.525      0.000       3.181       4.641\n",
            "ptratio       -0.9503      0.098     -9.741      0.000      -1.142      -0.759\n",
            "lstat         -0.5222      0.035    -14.886      0.000      -0.591      -0.453\n",
            "==============================================================================\n",
            "Omnibus:                       53.446   Durbin-Watson:                   1.104\n",
            "Prob(Omnibus):                  0.000   Jarque-Bera (JB):               83.064\n",
            "Skew:                           0.726   Prob(JB):                     9.18e-19\n",
            "Kurtosis:                       4.401   Cond. No.                         409.\n",
            "==============================================================================\n",
            "\n",
            "Warnings:\n",
            "[1] Standard Errors assume that the covariance matrix of the errors is correctly specified.\n"
          ]
        }
      ]
    },
    {
      "cell_type": "code",
      "metadata": {
        "id": "he3Zu3fb2EGv"
      },
      "source": [
        "pred = lm2.predict(df)"
      ],
      "execution_count": null,
      "outputs": []
    },
    {
      "cell_type": "code",
      "metadata": {
        "colab": {
          "base_uri": "https://localhost:8080/",
          "height": 337
        },
        "id": "GZxbHOxR2-4u",
        "outputId": "7dd1d073-e1d9-4d4a-d99c-2d75a02bb201"
      },
      "source": [
        "sns.scatterplot(pred, df.medv)"
      ],
      "execution_count": null,
      "outputs": [
        {
          "output_type": "stream",
          "name": "stderr",
          "text": [
            "/usr/local/lib/python3.7/dist-packages/seaborn/_decorators.py:43: FutureWarning: Pass the following variables as keyword args: x, y. From version 0.12, the only valid positional argument will be `data`, and passing other arguments without an explicit keyword will result in an error or misinterpretation.\n",
            "  FutureWarning\n"
          ]
        },
        {
          "output_type": "execute_result",
          "data": {
            "text/plain": [
              "<matplotlib.axes._subplots.AxesSubplot at 0x7f9b1e2d0590>"
            ]
          },
          "metadata": {},
          "execution_count": 20
        },
        {
          "output_type": "display_data",
          "data": {
            "text/plain": [
              "<Figure size 432x288 with 1 Axes>"
            ],
            "image/png": "[encoded data removed]"
          },
          "metadata": {
            "needs_background": "light"
          }
        }
      ]
    },
    {
      "cell_type": "code",
      "metadata": {
        "colab": {
          "base_uri": "https://localhost:8080/",
          "height": 337
        },
        "id": "0aeC4tBm3D2n",
        "outputId": "f6b24025-9d28-4163-8381-7a11e6cf9384"
      },
      "source": [
        "sns.scatterplot(pred-df.medv , df.medv)"
      ],
      "execution_count": null,
      "outputs": [
        {
          "output_type": "stream",
          "name": "stderr",
          "text": [
            "/usr/local/lib/python3.7/dist-packages/seaborn/_decorators.py:43: FutureWarning: Pass the following variables as keyword args: x, y. From version 0.12, the only valid positional argument will be `data`, and passing other arguments without an explicit keyword will result in an error or misinterpretation.\n",
            "  FutureWarning\n"
          ]
        },
        {
          "output_type": "execute_result",
          "data": {
            "text/plain": [
              "<matplotlib.axes._subplots.AxesSubplot at 0x7f9b1e2cd250>"
            ]
          },
          "metadata": {},
          "execution_count": 21
        },
        {
          "output_type": "display_data",
          "data": {
            "text/plain": [
              "<Figure size 432x288 with 1 Axes>"
            ],
            "image/png": "[encoded data removed]"
          },
          "metadata": {
            "needs_background": "light"
          }
        }
      ]
    },
    {
      "cell_type": "markdown",
      "metadata": {
        "id": "VyjCi-Hq9aWy"
      },
      "source": [
        "SCALED MODEL"
      ]
    },
    {
      "cell_type": "code",
      "metadata": {
        "id": "gMzuaO5f3J5x"
      },
      "source": [
        "def scale(data):\n",
        "  dataout = (data- data.min())/(data.max()-data.min())\n",
        "  return dataout"
      ],
      "execution_count": null,
      "outputs": []
    },
    {
      "cell_type": "code",
      "metadata": {
        "id": "cAJEH2s5AU-7"
      },
      "source": [
        "for i in df.columns:\n",
        "  df[i] = scale(df[i])"
      ],
      "execution_count": null,
      "outputs": []
    },
    {
      "cell_type": "code",
      "metadata": {
        "colab": {
          "base_uri": "https://localhost:8080/",
          "height": 300
        },
        "id": "N1TI8HOhArNn",
        "outputId": "9d308e37-27b3-4918-dde1-d2a26f3d462a"
      },
      "source": [
        "df.describe()"
      ],
      "execution_count": null,
      "outputs": [
        {
          "output_type": "execute_result",
          "data": {
            "text/plain": [
              "             crim          zn       indus        chas         nox          rm  \\\n",
              "count  490.000000  490.000000  490.000000  490.000000  490.000000  490.000000   \n",
              "mean     0.040878    0.111122    0.384190    0.059184    0.348369    0.514365   \n",
              "std      0.098035    0.228446    0.252641    0.236209    0.240098    0.125148   \n",
              "min      0.000000    0.000000    0.000000    0.000000    0.000000    0.000000   \n",
              "25%      0.000851    0.000000    0.164815    0.000000    0.131687    0.444530   \n",
              "50%      0.002711    0.000000    0.331481    0.000000    0.314815    0.502778   \n",
              "75%      0.040925    0.125000    0.642963    0.000000    0.491770    0.578080   \n",
              "max      1.000000    1.000000    1.000000    1.000000    1.000000    1.000000   \n",
              "\n",
              "              dis         rad         tax     ptratio       lstat        medv  \n",
              "count  490.000000  490.000000  490.000000  490.000000  490.000000  490.000000  \n",
              "mean     0.245463    0.370186    0.421760    0.629787    0.304085    0.379815  \n",
              "std      0.191997    0.377882    0.320735    0.224519    0.196810    0.179573  \n",
              "min      0.000000    0.000000    0.000000    0.000000    0.000000    0.000000  \n",
              "25%      0.088635    0.130435    0.177958    0.510638    0.149139    0.267123  \n",
              "50%      0.194631    0.173913    0.272901    0.691489    0.269380    0.363014  \n",
              "75%      0.371045    1.000000    0.914122    0.808511    0.420603    0.449201  \n",
              "max      1.000000    1.000000    1.000000    1.000000    1.000000    1.000000  "
            ],
            "text/html": [
              "\n",
              "  <div id=\"df-df993e19-80e6-46c3-81e6-c1f61851081c\">\n",
              "    <div class=\"colab-df-container\">\n",
              "      <div>\n",
              "<style scoped>\n",
              "    .dataframe tbody tr th:only-of-type {\n",
              "        vertical-align: middle;\n",
              "    }\n",
              "\n",
              "    .dataframe tbody tr th {\n",
              "        vertical-align: top;\n",
              "    }\n",
              "\n",
              "    .dataframe thead th {\n",
              "        text-align: right;\n",
              "    }\n",
              "</style>\n",
              "<table border=\"1\" class=\"dataframe\">\n",
              "  <thead>\n",
              "    <tr style=\"text-align: right;\">\n",
              "      <th></th>\n",
              "      <th>crim</th>\n",
              "      <th>zn</th>\n",
              "      <th>indus</th>\n",
              "      <th>chas</th>\n",
              "      <th>nox</th>\n",
              "      <th>rm</th>\n",
              "      <th>dis</th>\n",
              "      <th>rad</th>\n",
              "      <th>tax</th>\n",
              "      <th>ptratio</th>\n",
              "      <th>lstat</th>\n",
              "      <th>medv</th>\n",
              "    </tr>\n",
              "  </thead>\n",
              "  <tbody>\n",
              "    <tr>\n",
              "      <th>count</th>\n",
              "      <td>490.000000</td>\n",
              "      <td>490.000000</td>\n",
              "      <td>490.000000</td>\n",
              "      <td>490.000000</td>\n",
              "      <td>490.000000</td>\n",
              "      <td>490.000000</td>\n",
              "      <td>490.000000</td>\n",
              "      <td>490.000000</td>\n",
              "      <td>490.000000</td>\n",
              "      <td>490.000000</td>\n",
              "      <td>490.000000</td>\n",
              "      <td>490.000000</td>\n",
              "    </tr>\n",
              "    <tr>\n",
              "      <th>mean</th>\n",
              "      <td>0.040878</td>\n",
              "      <td>0.111122</td>\n",
              "      <td>0.384190</td>\n",
              "      <td>0.059184</td>\n",
              "      <td>0.348369</td>\n",
              "      <td>0.514365</td>\n",
              "      <td>0.245463</td>\n",
              "      <td>0.370186</td>\n",
              "      <td>0.421760</td>\n",
              "      <td>0.629787</td>\n",
              "      <td>0.304085</td>\n",
              "      <td>0.379815</td>\n",
              "    </tr>\n",
              "    <tr>\n",
              "      <th>std</th>\n",
              "      <td>0.098035</td>\n",
              "      <td>0.228446</td>\n",
              "      <td>0.252641</td>\n",
              "      <td>0.236209</td>\n",
              "      <td>0.240098</td>\n",
              "      <td>0.125148</td>\n",
              "      <td>0.191997</td>\n",
              "      <td>0.377882</td>\n",
              "      <td>0.320735</td>\n",
              "      <td>0.224519</td>\n",
              "      <td>0.196810</td>\n",
              "      <td>0.179573</td>\n",
              "    </tr>\n",
              "    <tr>\n",
              "      <th>min</th>\n",
              "      <td>0.000000</td>\n",
              "      <td>0.000000</td>\n",
              "      <td>0.000000</td>\n",
              "      <td>0.000000</td>\n",
              "      <td>0.000000</td>\n",
              "      <td>0.000000</td>\n",
              "      <td>0.000000</td>\n",
              "      <td>0.000000</td>\n",
              "      <td>0.000000</td>\n",
              "      <td>0.000000</td>\n",
              "      <td>0.000000</td>\n",
              "      <td>0.000000</td>\n",
              "    </tr>\n",
              "    <tr>\n",
              "      <th>25%</th>\n",
              "      <td>0.000851</td>\n",
              "      <td>0.000000</td>\n",
              "      <td>0.164815</td>\n",
              "      <td>0.000000</td>\n",
              "      <td>0.131687</td>\n",
              "      <td>0.444530</td>\n",
              "      <td>0.088635</td>\n",
              "      <td>0.130435</td>\n",
              "      <td>0.177958</td>\n",
              "      <td>0.510638</td>\n",
              "      <td>0.149139</td>\n",
              "      <td>0.267123</td>\n",
              "    </tr>\n",
              "    <tr>\n",
              "      <th>50%</th>\n",
              "      <td>0.002711</td>\n",
              "      <td>0.000000</td>\n",
              "      <td>0.331481</td>\n",
              "      <td>0.000000</td>\n",
              "      <td>0.314815</td>\n",
              "      <td>0.502778</td>\n",
              "      <td>0.194631</td>\n",
              "      <td>0.173913</td>\n",
              "      <td>0.272901</td>\n",
              "      <td>0.691489</td>\n",
              "      <td>0.269380</td>\n",
              "      <td>0.363014</td>\n",
              "    </tr>\n",
              "    <tr>\n",
              "      <th>75%</th>\n",
              "      <td>0.040925</td>\n",
              "      <td>0.125000</td>\n",
              "      <td>0.642963</td>\n",
              "      <td>0.000000</td>\n",
              "      <td>0.491770</td>\n",
              "      <td>0.578080</td>\n",
              "      <td>0.371045</td>\n",
              "      <td>1.000000</td>\n",
              "      <td>0.914122</td>\n",
              "      <td>0.808511</td>\n",
              "      <td>0.420603</td>\n",
              "      <td>0.449201</td>\n",
              "    </tr>\n",
              "    <tr>\n",
              "      <th>max</th>\n",
              "      <td>1.000000</td>\n",
              "      <td>1.000000</td>\n",
              "      <td>1.000000</td>\n",
              "      <td>1.000000</td>\n",
              "      <td>1.000000</td>\n",
              "      <td>1.000000</td>\n",
              "      <td>1.000000</td>\n",
              "      <td>1.000000</td>\n",
              "      <td>1.000000</td>\n",
              "      <td>1.000000</td>\n",
              "      <td>1.000000</td>\n",
              "      <td>1.000000</td>\n",
              "    </tr>\n",
              "  </tbody>\n",
              "</table>\n",
              "</div>\n",
              "      <button class=\"colab-df-convert\" onclick=\"convertToInteractive('df-df993e19-80e6-46c3-81e6-c1f61851081c')\"\n",
              "              title=\"Convert this dataframe to an interactive table.\"\n",
              "              style=\"display:none;\">\n",
              "        \n",
              "  <svg xmlns=\"http://www.w3.org/2000/svg\" height=\"24px\"viewBox=\"0 0 24 24\"\n",
              "       width=\"24px\">\n",
              "    <path d=\"M0 0h24v24H0V0z\" fill=\"none\"/>\n",
              "    <path d=\"M18.56 5.44l.94 2.06.94-2.06 2.06-.94-2.06-.94-.94-2.06-.94 2.06-2.06.94zm-11 1L8.5 8.5l.94-2.06 2.06-.94-2.06-.94L8.5 2.5l-.94 2.06-2.06.94zm10 10l.94 2.06.94-2.06 2.06-.94-2.06-.94-.94-2.06-.94 2.06-2.06.94z\"/><path d=\"M17.41 7.96l-1.37-1.37c-.4-.4-.92-.59-1.43-.59-.52 0-1.04.2-1.43.59L10.3 9.45l-7.72 7.72c-.78.78-.78 2.05 0 2.83L4 21.41c.39.39.9.59 1.41.59.51 0 1.02-.2 1.41-.59l7.78-7.78 2.81-2.81c.8-.78.8-2.07 0-2.86zM5.41 20L4 18.59l7.72-7.72 1.47 1.35L5.41 20z\"/>\n",
              "  </svg>\n",
              "      </button>\n",
              "      \n",
              "  <style>\n",
              "    .colab-df-container {\n",
              "      display:flex;\n",
              "      flex-wrap:wrap;\n",
              "      gap: 12px;\n",
              "    }\n",
              "\n",
              "    .colab-df-convert {\n",
              "      background-color: #E8F0FE;\n",
              "      border: none;\n",
              "      border-radius: 50%;\n",
              "      cursor: pointer;\n",
              "      display: none;\n",
              "      fill: #1967D2;\n",
              "      height: 32px;\n",
              "      padding: 0 0 0 0;\n",
              "      width: 32px;\n",
              "    }\n",
              "\n",
              "    .colab-df-convert:hover {\n",
              "      background-color: #E2EBFA;\n",
              "      box-shadow: 0px 1px 2px rgba(60, 64, 67, 0.3), 0px 1px 3px 1px rgba(60, 64, 67, 0.15);\n",
              "      fill: #174EA6;\n",
              "    }\n",
              "\n",
              "    [theme=dark] .colab-df-convert {\n",
              "      background-color: #3B4455;\n",
              "      fill: #D2E3FC;\n",
              "    }\n",
              "\n",
              "    [theme=dark] .colab-df-convert:hover {\n",
              "      background-color: #434B5C;\n",
              "      box-shadow: 0px 1px 3px 1px rgba(0, 0, 0, 0.15);\n",
              "      filter: drop-shadow(0px 1px 2px rgba(0, 0, 0, 0.3));\n",
              "      fill: #FFFFFF;\n",
              "    }\n",
              "  </style>\n",
              "\n",
              "      <script>\n",
              "        const buttonEl =\n",
              "          document.querySelector('#df-df993e19-80e6-46c3-81e6-c1f61851081c button.colab-df-convert');\n",
              "        buttonEl.style.display =\n",
              "          google.colab.kernel.accessAllowed ? 'block' : 'none';\n",
              "\n",
              "        async function convertToInteractive(key) {\n",
              "          const element = document.querySelector('#df-df993e19-80e6-46c3-81e6-c1f61851081c');\n",
              "          const dataTable =\n",
              "            await google.colab.kernel.invokeFunction('convertToInteractive',\n",
              "                                                     [key], {});\n",
              "          if (!dataTable) return;\n",
              "\n",
              "          const docLinkHtml = 'Like what you see? Visit the ' +\n",
              "            '<a target=\"_blank\" href=https://colab.research.google.com/notebooks/data_table.ipynb>data table notebook</a>'\n",
              "            + ' to learn more about interactive tables.';\n",
              "          element.innerHTML = '';\n",
              "          dataTable['output_type'] = 'display_data';\n",
              "          await google.colab.output.renderOutput(dataTable, element);\n",
              "          const docLink = document.createElement('div');\n",
              "          docLink.innerHTML = docLinkHtml;\n",
              "          element.appendChild(docLink);\n",
              "        }\n",
              "      </script>\n",
              "    </div>\n",
              "  </div>\n",
              "  "
            ]
          },
          "metadata": {},
          "execution_count": 24
        }
      ]
    },
    {
      "cell_type": "code",
      "metadata": {
        "colab": {
          "base_uri": "https://localhost:8080/"
        },
        "id": "-RM06jMeh48M",
        "outputId": "52e7137f-646d-4ec7-956c-b0f0b0366087"
      },
      "source": [
        "formula = 'medv ~ crim + zn + nox + rm + dis + rad + tax + ptratio + lstat+ indus + chas'\n",
        "lm = smf.ols(formula=formula, data=df).fit()\n",
        "print(lm.summary())"
      ],
      "execution_count": null,
      "outputs": [
        {
          "output_type": "stream",
          "name": "stdout",
          "text": [
            "                            OLS Regression Results                            \n",
            "==============================================================================\n",
            "Dep. Variable:                   medv   R-squared:                       0.769\n",
            "Model:                            OLS   Adj. R-squared:                  0.764\n",
            "Method:                 Least Squares   F-statistic:                     145.0\n",
            "Date:                Fri, 22 Apr 2022   Prob (F-statistic):          1.62e-144\n",
            "Time:                        23:36:14   Log-Likelihood:                 506.09\n",
            "No. Observations:                 490   AIC:                            -988.2\n",
            "Df Residuals:                     478   BIC:                            -937.8\n",
            "Df Model:                          11                                         \n",
            "Covariance Type:            nonrobust                                         \n",
            "==============================================================================\n",
            "                 coef    std err          t      P>|t|      [0.025      0.975]\n",
            "------------------------------------------------------------------------------\n",
            "Intercept      0.5431      0.037     14.510      0.000       0.470       0.617\n",
            "crim          -0.2393      0.054     -4.471      0.000      -0.344      -0.134\n",
            "zn             0.0872      0.026      3.354      0.001       0.036       0.138\n",
            "nox           -0.1652      0.033     -4.999      0.000      -0.230      -0.100\n",
            "rm             0.4141      0.042      9.831      0.000       0.331       0.497\n",
            "dis           -0.2833      0.039     -7.218      0.000      -0.360      -0.206\n",
            "rad            0.1291      0.028      4.585      0.000       0.074       0.184\n",
            "tax           -0.1696      0.036     -4.655      0.000      -0.241      -0.098\n",
            "ptratio       -0.1809      0.023     -7.908      0.000      -0.226      -0.136\n",
            "lstat         -0.3314      0.033    -10.142      0.000      -0.396      -0.267\n",
            "indus         -0.0295      0.031     -0.947      0.344      -0.091       0.032\n",
            "chas           0.0121      0.017      0.703      0.483      -0.022       0.046\n",
            "==============================================================================\n",
            "Omnibus:                       67.195   Durbin-Watson:                   1.229\n",
            "Prob(Omnibus):                  0.000   Jarque-Bera (JB):              107.605\n",
            "Skew:                           0.867   Prob(JB):                     4.30e-24\n",
            "Kurtosis:                       4.504   Cond. No.                         24.5\n",
            "==============================================================================\n",
            "\n",
            "Warnings:\n",
            "[1] Standard Errors assume that the covariance matrix of the errors is correctly specified.\n"
          ]
        }
      ]
    },
    {
      "cell_type": "code",
      "metadata": {
        "colab": {
          "base_uri": "https://localhost:8080/"
        },
        "id": "yXcObl-YAt-V",
        "outputId": "55642193-be6f-45db-cead-7ab96d3b38cf"
      },
      "source": [
        "formula = 'medv ~ crim + zn + nox + rm + dis + rad + tax + ptratio + lstat'\n",
        "lm = smf.ols(formula=formula, data=df).fit()\n",
        "print(lm.summary())"
      ],
      "execution_count": null,
      "outputs": [
        {
          "output_type": "stream",
          "name": "stdout",
          "text": [
            "                            OLS Regression Results                            \n",
            "==============================================================================\n",
            "Dep. Variable:                   medv   R-squared:                       0.769\n",
            "Model:                            OLS   Adj. R-squared:                  0.764\n",
            "Method:                 Least Squares   F-statistic:                     177.3\n",
            "Date:                Fri, 22 Apr 2022   Prob (F-statistic):          1.75e-146\n",
            "Time:                        23:36:21   Log-Likelihood:                 505.42\n",
            "No. Observations:                 490   AIC:                            -990.8\n",
            "Df Residuals:                     480   BIC:                            -948.9\n",
            "Df Model:                           9                                         \n",
            "Covariance Type:            nonrobust                                         \n",
            "==============================================================================\n",
            "                 coef    std err          t      P>|t|      [0.025      0.975]\n",
            "------------------------------------------------------------------------------\n",
            "Intercept      0.5380      0.037     14.619      0.000       0.466       0.610\n",
            "crim          -0.2392      0.053     -4.486      0.000      -0.344      -0.134\n",
            "zn             0.0893      0.026      3.454      0.001       0.038       0.140\n",
            "nox           -0.1723      0.032     -5.466      0.000      -0.234      -0.110\n",
            "rm             0.4190      0.042     10.013      0.000       0.337       0.501\n",
            "dis           -0.2761      0.038     -7.209      0.000      -0.351      -0.201\n",
            "rad            0.1373      0.027      5.066      0.000       0.084       0.191\n",
            "tax           -0.1865      0.033     -5.674      0.000      -0.251      -0.122\n",
            "ptratio       -0.1851      0.023     -8.213      0.000      -0.229      -0.141\n",
            "lstat         -0.3343      0.032    -10.292      0.000      -0.398      -0.270\n",
            "==============================================================================\n",
            "Omnibus:                       66.879   Durbin-Watson:                   1.216\n",
            "Prob(Omnibus):                  0.000   Jarque-Bera (JB):              105.962\n",
            "Skew:                           0.869   Prob(JB):                     9.79e-24\n",
            "Kurtosis:                       4.473   Cond. No.                         23.5\n",
            "==============================================================================\n",
            "\n",
            "Warnings:\n",
            "[1] Standard Errors assume that the covariance matrix of the errors is correctly specified.\n"
          ]
        }
      ]
    },
    {
      "cell_type": "code",
      "metadata": {
        "colab": {
          "base_uri": "https://localhost:8080/"
        },
        "id": "o26JUz8OA-hh",
        "outputId": "f5b9db7b-ea1e-4aca-8d71-e81dcccb542e"
      },
      "source": [
        "lm.params.abs().sort_values()\n",
        "# we can see that rooms has the highest effect on price and residential zones has the least"
      ],
      "execution_count": null,
      "outputs": [
        {
          "output_type": "execute_result",
          "data": {
            "text/plain": [
              "zn           0.089308\n",
              "rad          0.137338\n",
              "nox          0.172322\n",
              "ptratio      0.185143\n",
              "tax          0.186540\n",
              "crim         0.239221\n",
              "dis          0.276054\n",
              "lstat        0.334317\n",
              "rm           0.419029\n",
              "Intercept    0.538025\n",
              "dtype: float64"
            ]
          },
          "metadata": {},
          "execution_count": 27
        }
      ]
    },
    {
      "cell_type": "code",
      "metadata": {
        "id": "AWW6-YSfBrUn"
      },
      "source": [
        "#The End"
      ],
      "execution_count": null,
      "outputs": []
    }
  ]
}